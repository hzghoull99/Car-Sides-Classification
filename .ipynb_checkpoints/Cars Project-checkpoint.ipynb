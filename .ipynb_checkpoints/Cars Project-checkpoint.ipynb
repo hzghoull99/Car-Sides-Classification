{
 "cells": [
  {
   "cell_type": "code",
   "execution_count": 1,
   "id": "805c791b",
   "metadata": {},
   "outputs": [],
   "source": [
    "import numpy as np\n",
    "from tensorflow.keras.models import Sequential\n",
    "from tensorflow.keras.layers import Dense, Conv2D,MaxPool2D,BatchNormalization, Flatten, Dropout\n",
    "from tensorflow.keras.optimizers import Adam,RMSprop\n",
    "from tensorflow.keras.preprocessing.image import ImageDataGenerator, load_img , img_to_array\n",
    "from sklearn.metrics import classification_report ,confusion_matrix ,plot_confusion_matrix\n",
    "import matplotlib.pyplot as plt\n",
    "import seaborn as sns\n",
    "from tensorflow.keras.callbacks import EarlyStopping ,ReduceLROnPlateau ,ModelCheckpoint\n",
    "import cv2\n",
    "import glob\n",
    "import tensorflow as tf"
   ]
  },
  {
   "cell_type": "code",
   "execution_count": 2,
   "id": "87430b10",
   "metadata": {},
   "outputs": [],
   "source": [
    "train_path=r\"D:\\All Data\\Desktop\\car proj\\car_type\\Train\\Hamza's_Data\\train aug\"\n",
    "test_path=r\"D:\\All Data\\Desktop\\car proj\\car_type\\Train\\Hamza's_Data\\test aug\""
   ]
  },
  {
   "cell_type": "code",
   "execution_count": 3,
   "id": "79cf9c4c",
   "metadata": {
    "scrolled": true
   },
   "outputs": [
    {
     "name": "stdout",
     "output_type": "stream",
     "text": [
      "Found 24431 images belonging to 5 classes.\n",
      "Found 3846 images belonging to 5 classes.\n"
     ]
    }
   ],
   "source": [
    "train=ImageDataGenerator().flow_from_directory(train_path,target_size=(224,224))\n",
    "test=ImageDataGenerator().flow_from_directory(test_path,target_size=(224,224),shuffle=False)"
   ]
  },
  {
   "cell_type": "code",
   "execution_count": 4,
   "id": "33c3946f",
   "metadata": {},
   "outputs": [
    {
     "data": {
      "text/plain": [
       "{'Front view': 0,\n",
       " 'Left view': 1,\n",
       " 'Not a car': 2,\n",
       " 'Rear view': 3,\n",
       " 'Right view': 4}"
      ]
     },
     "execution_count": 4,
     "metadata": {},
     "output_type": "execute_result"
    }
   ],
   "source": [
    "train.class_indices"
   ]
  },
  {
   "cell_type": "code",
   "execution_count": 5,
   "id": "88041780",
   "metadata": {},
   "outputs": [
    {
     "data": {
      "text/plain": [
       "{'Front view': 0,\n",
       " 'Left view': 1,\n",
       " 'Not a car': 2,\n",
       " 'Rear view': 3,\n",
       " 'Right view': 4}"
      ]
     },
     "execution_count": 5,
     "metadata": {},
     "output_type": "execute_result"
    }
   ],
   "source": [
    "test.class_indices"
   ]
  },
  {
   "cell_type": "markdown",
   "id": "e1290707",
   "metadata": {},
   "source": [
    "# Building and training CNN model"
   ]
  },
  {
   "cell_type": "code",
   "execution_count": 6,
   "id": "b13f98cd",
   "metadata": {},
   "outputs": [],
   "source": [
    "model= Sequential()"
   ]
  },
  {
   "cell_type": "code",
   "execution_count": 7,
   "id": "b28c9b1c",
   "metadata": {},
   "outputs": [],
   "source": [
    "model= Sequential()\n",
    "model.add(Conv2D(filters=16,kernel_size=(3,3),activation='relu',padding='same',input_shape=(224,224,3)))\n",
    "model.add(MaxPool2D())\n",
    "model.add(BatchNormalization())\n",
    "model.add(Conv2D(filters=32,kernel_size=(3,3),activation='relu',padding='same'))\n",
    "model.add(Conv2D(filters=32,kernel_size=(3,3),activation='relu',padding='same'))\n",
    "model.add(MaxPool2D())\n",
    "model.add(BatchNormalization())\n",
    "model.add(Dropout(0.25))\n",
    "model.add(Conv2D(filters=64,kernel_size=(3,3),activation='relu',padding='same'))\n",
    "model.add(Conv2D(filters=64,kernel_size=(3,3),activation='relu',padding='same'))\n",
    "model.add(MaxPool2D())\n",
    "model.add(BatchNormalization())\n",
    "model.add(Dropout(0.25))\n",
    "model.add(Conv2D(filters=96,kernel_size=(3,3),activation='relu',padding='same'))\n",
    "model.add(Conv2D(filters=96,kernel_size=(3,3),activation='relu',padding='same'))\n",
    "model.add(MaxPool2D())\n",
    "model.add(BatchNormalization())\n",
    "model.add(Dropout(0.25))\n",
    "model.add(Flatten())\n",
    "model.add(Dense(units=5,activation='softmax'))"
   ]
  },
  {
   "cell_type": "code",
   "execution_count": 8,
   "id": "6eeabe66",
   "metadata": {},
   "outputs": [
    {
     "name": "stdout",
     "output_type": "stream",
     "text": [
      "Model: \"sequential_1\"\n",
      "_________________________________________________________________\n",
      " Layer (type)                Output Shape              Param #   \n",
      "=================================================================\n",
      " conv2d (Conv2D)             (None, 224, 224, 16)      448       \n",
      "                                                                 \n",
      " max_pooling2d (MaxPooling2D  (None, 112, 112, 16)     0         \n",
      " )                                                               \n",
      "                                                                 \n",
      " batch_normalization (BatchN  (None, 112, 112, 16)     64        \n",
      " ormalization)                                                   \n",
      "                                                                 \n",
      " conv2d_1 (Conv2D)           (None, 112, 112, 32)      4640      \n",
      "                                                                 \n",
      " conv2d_2 (Conv2D)           (None, 112, 112, 32)      9248      \n",
      "                                                                 \n",
      " max_pooling2d_1 (MaxPooling  (None, 56, 56, 32)       0         \n",
      " 2D)                                                             \n",
      "                                                                 \n",
      " batch_normalization_1 (Batc  (None, 56, 56, 32)       128       \n",
      " hNormalization)                                                 \n",
      "                                                                 \n",
      " dropout (Dropout)           (None, 56, 56, 32)        0         \n",
      "                                                                 \n",
      " conv2d_3 (Conv2D)           (None, 56, 56, 64)        18496     \n",
      "                                                                 \n",
      " conv2d_4 (Conv2D)           (None, 56, 56, 64)        36928     \n",
      "                                                                 \n",
      " max_pooling2d_2 (MaxPooling  (None, 28, 28, 64)       0         \n",
      " 2D)                                                             \n",
      "                                                                 \n",
      " batch_normalization_2 (Batc  (None, 28, 28, 64)       256       \n",
      " hNormalization)                                                 \n",
      "                                                                 \n",
      " dropout_1 (Dropout)         (None, 28, 28, 64)        0         \n",
      "                                                                 \n",
      " conv2d_5 (Conv2D)           (None, 28, 28, 96)        55392     \n",
      "                                                                 \n",
      " conv2d_6 (Conv2D)           (None, 28, 28, 96)        83040     \n",
      "                                                                 \n",
      " max_pooling2d_3 (MaxPooling  (None, 14, 14, 96)       0         \n",
      " 2D)                                                             \n",
      "                                                                 \n",
      " batch_normalization_3 (Batc  (None, 14, 14, 96)       384       \n",
      " hNormalization)                                                 \n",
      "                                                                 \n",
      " dropout_2 (Dropout)         (None, 14, 14, 96)        0         \n",
      "                                                                 \n",
      " flatten (Flatten)           (None, 18816)             0         \n",
      "                                                                 \n",
      " dense (Dense)               (None, 5)                 94085     \n",
      "                                                                 \n",
      "=================================================================\n",
      "Total params: 303,109\n",
      "Trainable params: 302,693\n",
      "Non-trainable params: 416\n",
      "_________________________________________________________________\n"
     ]
    }
   ],
   "source": [
    "model.summary()"
   ]
  },
  {
   "cell_type": "code",
   "execution_count": 9,
   "id": "fab37651",
   "metadata": {},
   "outputs": [],
   "source": [
    "es=EarlyStopping(monitor='val_accuracy',min_delta=0.005,patience=8)\n",
    "rlr=ReduceLROnPlateau(monitor='val_accuracy',factor=0.1,patience=4)\n",
    "checkpoint=ModelCheckpoint(filepath=r\"D:\\All Data\\Desktop\\car proj\\car_type\\Train\\hamza models\\hamza's model\\model6_.h5\",monitor='val_accuracy',save_best_only=True)"
   ]
  },
  {
   "cell_type": "code",
   "execution_count": 10,
   "id": "7d777d44",
   "metadata": {},
   "outputs": [],
   "source": [
    "model.compile(optimizer=Adam(learning_rate=0.001),loss='categorical_crossentropy',metrics='accuracy')"
   ]
  },
  {
   "cell_type": "code",
   "execution_count": 11,
   "id": "2641a6b5",
   "metadata": {
    "scrolled": false
   },
   "outputs": [
    {
     "name": "stdout",
     "output_type": "stream",
     "text": [
      "Epoch 1/50\n",
      "764/764 [==============================] - 171s 211ms/step - loss: 1.3487 - accuracy: 0.6205 - val_loss: 0.7099 - val_accuracy: 0.7309 - lr: 0.0010\n",
      "Epoch 2/50\n",
      "764/764 [==============================] - 102s 134ms/step - loss: 0.5601 - accuracy: 0.8127 - val_loss: 0.5147 - val_accuracy: 0.8263 - lr: 0.0010\n",
      "Epoch 3/50\n",
      "764/764 [==============================] - 97s 126ms/step - loss: 0.3425 - accuracy: 0.8807 - val_loss: 0.5971 - val_accuracy: 0.8170 - lr: 0.0010\n",
      "Epoch 4/50\n",
      "764/764 [==============================] - 93s 122ms/step - loss: 0.2657 - accuracy: 0.9074 - val_loss: 0.3896 - val_accuracy: 0.8684 - lr: 0.0010\n",
      "Epoch 5/50\n",
      "764/764 [==============================] - 93s 122ms/step - loss: 0.2068 - accuracy: 0.9264 - val_loss: 0.4774 - val_accuracy: 0.8716 - lr: 0.0010\n",
      "Epoch 6/50\n",
      "764/764 [==============================] - 92s 121ms/step - loss: 0.1651 - accuracy: 0.9419 - val_loss: 0.5883 - val_accuracy: 0.8359 - lr: 0.0010\n",
      "Epoch 7/50\n",
      "764/764 [==============================] - 92s 121ms/step - loss: 0.1539 - accuracy: 0.9475 - val_loss: 0.2993 - val_accuracy: 0.9155 - lr: 0.0010\n",
      "Epoch 8/50\n",
      "764/764 [==============================] - 92s 121ms/step - loss: 0.1298 - accuracy: 0.9553 - val_loss: 0.3601 - val_accuracy: 0.8918 - lr: 0.0010\n",
      "Epoch 9/50\n",
      "764/764 [==============================] - 92s 120ms/step - loss: 0.1126 - accuracy: 0.9618 - val_loss: 0.2987 - val_accuracy: 0.9269 - lr: 0.0010\n",
      "Epoch 10/50\n",
      "764/764 [==============================] - 92s 120ms/step - loss: 0.0911 - accuracy: 0.9697 - val_loss: 0.2295 - val_accuracy: 0.9360 - lr: 0.0010\n",
      "Epoch 11/50\n",
      "764/764 [==============================] - 92s 121ms/step - loss: 0.0985 - accuracy: 0.9658 - val_loss: 0.3606 - val_accuracy: 0.9121 - lr: 0.0010\n",
      "Epoch 12/50\n",
      "764/764 [==============================] - 92s 121ms/step - loss: 0.0827 - accuracy: 0.9718 - val_loss: 0.1807 - val_accuracy: 0.9444 - lr: 0.0010\n",
      "Epoch 13/50\n",
      "764/764 [==============================] - 93s 121ms/step - loss: 0.0683 - accuracy: 0.9769 - val_loss: 0.2898 - val_accuracy: 0.9262 - lr: 0.0010\n",
      "Epoch 14/50\n",
      "764/764 [==============================] - 92s 121ms/step - loss: 0.0677 - accuracy: 0.9772 - val_loss: 0.7746 - val_accuracy: 0.7993 - lr: 0.0010\n",
      "Epoch 15/50\n",
      "764/764 [==============================] - 93s 121ms/step - loss: 0.0653 - accuracy: 0.9784 - val_loss: 0.2898 - val_accuracy: 0.9246 - lr: 0.0010\n",
      "Epoch 16/50\n",
      "764/764 [==============================] - 92s 120ms/step - loss: 0.0521 - accuracy: 0.9824 - val_loss: 0.2490 - val_accuracy: 0.9457 - lr: 0.0010\n",
      "Epoch 17/50\n",
      "764/764 [==============================] - 93s 121ms/step - loss: 0.0538 - accuracy: 0.9809 - val_loss: 0.1615 - val_accuracy: 0.9576 - lr: 0.0010\n",
      "Epoch 18/50\n",
      "764/764 [==============================] - 93s 122ms/step - loss: 0.0562 - accuracy: 0.9807 - val_loss: 0.2669 - val_accuracy: 0.9306 - lr: 0.0010\n",
      "Epoch 19/50\n",
      "764/764 [==============================] - 92s 121ms/step - loss: 0.0510 - accuracy: 0.9831 - val_loss: 0.2318 - val_accuracy: 0.9470 - lr: 0.0010\n",
      "Epoch 20/50\n",
      "764/764 [==============================] - 92s 121ms/step - loss: 0.0422 - accuracy: 0.9859 - val_loss: 0.1717 - val_accuracy: 0.9576 - lr: 0.0010\n",
      "Epoch 21/50\n",
      "764/764 [==============================] - 92s 121ms/step - loss: 0.0379 - accuracy: 0.9879 - val_loss: 0.2151 - val_accuracy: 0.9563 - lr: 0.0010\n",
      "Epoch 22/50\n",
      "764/764 [==============================] - 92s 121ms/step - loss: 0.0209 - accuracy: 0.9935 - val_loss: 0.1585 - val_accuracy: 0.9618 - lr: 1.0000e-04\n",
      "Epoch 23/50\n",
      "764/764 [==============================] - 92s 121ms/step - loss: 0.0138 - accuracy: 0.9954 - val_loss: 0.1611 - val_accuracy: 0.9623 - lr: 1.0000e-04\n",
      "Epoch 24/50\n",
      "764/764 [==============================] - 92s 121ms/step - loss: 0.0101 - accuracy: 0.9962 - val_loss: 0.1554 - val_accuracy: 0.9626 - lr: 1.0000e-04\n",
      "Epoch 25/50\n",
      "764/764 [==============================] - 92s 121ms/step - loss: 0.0080 - accuracy: 0.9976 - val_loss: 0.1503 - val_accuracy: 0.9652 - lr: 1.0000e-04\n",
      "Epoch 26/50\n",
      "764/764 [==============================] - 92s 121ms/step - loss: 0.0070 - accuracy: 0.9977 - val_loss: 0.1498 - val_accuracy: 0.9675 - lr: 1.0000e-04\n",
      "Epoch 27/50\n",
      "764/764 [==============================] - 92s 121ms/step - loss: 0.0059 - accuracy: 0.9982 - val_loss: 0.1482 - val_accuracy: 0.9667 - lr: 1.0000e-04\n",
      "Epoch 28/50\n",
      "764/764 [==============================] - 93s 122ms/step - loss: 0.0059 - accuracy: 0.9980 - val_loss: 0.1483 - val_accuracy: 0.9665 - lr: 1.0000e-04\n",
      "Epoch 29/50\n",
      "764/764 [==============================] - 92s 121ms/step - loss: 0.0055 - accuracy: 0.9984 - val_loss: 0.1455 - val_accuracy: 0.9685 - lr: 1.0000e-04\n",
      "Epoch 30/50\n",
      "764/764 [==============================] - 93s 122ms/step - loss: 0.0052 - accuracy: 0.9986 - val_loss: 0.1514 - val_accuracy: 0.9665 - lr: 1.0000e-04\n",
      "Epoch 31/50\n",
      "764/764 [==============================] - 92s 121ms/step - loss: 0.0041 - accuracy: 0.9987 - val_loss: 0.1457 - val_accuracy: 0.9672 - lr: 1.0000e-04\n",
      "Epoch 32/50\n",
      "764/764 [==============================] - 92s 121ms/step - loss: 0.0044 - accuracy: 0.9986 - val_loss: 0.1472 - val_accuracy: 0.9667 - lr: 1.0000e-04\n",
      "Epoch 33/50\n",
      "764/764 [==============================] - 95s 124ms/step - loss: 0.0039 - accuracy: 0.9987 - val_loss: 0.1580 - val_accuracy: 0.9665 - lr: 1.0000e-04\n"
     ]
    }
   ],
   "source": [
    "history=model.fit(train,validation_data=test,epochs=50,batch_size=32,callbacks=[es,rlr,checkpoint])"
   ]
  },
  {
   "cell_type": "code",
   "execution_count": 12,
   "id": "92922e05",
   "metadata": {},
   "outputs": [
    {
     "data": {
      "text/plain": [
       "array([2, 0, 0, ..., 4, 4, 4], dtype=int64)"
      ]
     },
     "execution_count": 12,
     "metadata": {},
     "output_type": "execute_result"
    }
   ],
   "source": [
    "predictions = model.predict(test)\n",
    "predictions = np.argmax(predictions,axis=1)\n",
    "predictions"
   ]
  },
  {
   "cell_type": "code",
   "execution_count": 13,
   "id": "35d113fa",
   "metadata": {},
   "outputs": [
    {
     "data": {
      "text/plain": [
       "{'Front view': 0,\n",
       " 'Left view': 1,\n",
       " 'Not a car': 2,\n",
       " 'Rear view': 3,\n",
       " 'Right view': 4}"
      ]
     },
     "execution_count": 13,
     "metadata": {},
     "output_type": "execute_result"
    }
   ],
   "source": [
    "classes=train.class_indices\n",
    "classes"
   ]
  },
  {
   "cell_type": "code",
   "execution_count": 14,
   "id": "42a6315c",
   "metadata": {},
   "outputs": [
    {
     "data": {
      "image/png": "[encoded data removed]",
      "text/plain": [
       "<Figure size 720x576 with 2 Axes>"
      ]
     },
     "metadata": {
      "needs_background": "light"
     },
     "output_type": "display_data"
    }
   ],
   "source": [
    "cm=confusion_matrix(test.classes,predictions)\n",
    "plt.figure(figsize=[10,8])\n",
    "\n",
    "ax = sns.heatmap(cm, annot=True,annot_kws={\"size\": 10}, fmt=\"d\", cmap='Blues')\n",
    "\n",
    "ax.set_title('Confusion Matrix');\n",
    "ax.set_xlabel('\\nPredicted Values')\n",
    "ax.set_ylabel('Actual Values ');\n",
    "\n",
    "\n",
    "plt.show()"
   ]
  },
  {
   "cell_type": "code",
   "execution_count": 15,
   "id": "81cfc68d",
   "metadata": {},
   "outputs": [
    {
     "name": "stdout",
     "output_type": "stream",
     "text": [
      "              precision    recall  f1-score   support\n",
      "\n",
      "           0       0.97      0.96      0.97       745\n",
      "           1       0.96      0.97      0.97       715\n",
      "           2       0.98      0.99      0.98       792\n",
      "           3       0.98      0.97      0.97       750\n",
      "           4       0.97      0.97      0.97       745\n",
      "\n",
      "    accuracy                           0.97      3747\n",
      "   macro avg       0.97      0.97      0.97      3747\n",
      "weighted avg       0.97      0.97      0.97      3747\n",
      "\n"
     ]
    }
   ],
   "source": [
    "print(classification_report(test.classes,predictions))"
   ]
  },
  {
   "cell_type": "code",
   "execution_count": 16,
   "id": "4f5fcf6f",
   "metadata": {},
   "outputs": [],
   "source": [
    "def plot_metric(history, metric):\n",
    "    train_metrics = history.history[metric]\n",
    "    val_metrics = history.history['val_'+metric]\n",
    "    epochs = range(1, len(train_metrics) + 1)\n",
    "    plt.plot(epochs, train_metrics)\n",
    "    plt.plot(epochs, val_metrics)\n",
    "    plt.title('Training and validation '+ metric)\n",
    "    plt.xlabel(\"Epochs\")\n",
    "    plt.ylabel(metric)\n",
    "    plt.legend([\"train_\"+metric, 'val_'+metric])\n",
    "    plt.show()"
   ]
  },
  {
   "cell_type": "code",
   "execution_count": 17,
   "id": "c833ada2",
   "metadata": {},
   "outputs": [
    {
     "data": {
      "image/png": "[encoded data removed]",
      "text/plain": [
       "<Figure size 576x576 with 1 Axes>"
      ]
     },
     "metadata": {
      "needs_background": "light"
     },
     "output_type": "display_data"
    }
   ],
   "source": [
    "plt.figure(figsize=[8,8])\n",
    "plot_metric(history,'loss')"
   ]
  },
  {
   "cell_type": "code",
   "execution_count": 18,
   "id": "5b09111b",
   "metadata": {
    "scrolled": true
   },
   "outputs": [
    {
     "data": {
      "image/png": "[encoded data removed]",
      "text/plain": [
       "<Figure size 576x576 with 1 Axes>"
      ]
     },
     "metadata": {
      "needs_background": "light"
     },
     "output_type": "display_data"
    }
   ],
   "source": [
    "plt.figure(figsize=[8,8])\n",
    "plot_metric(history,'accuracy')"
   ]
  },
  {
   "cell_type": "markdown",
   "id": "b70eb12c",
   "metadata": {},
   "source": [
    "# Prediction errors"
   ]
  },
  {
   "cell_type": "code",
   "execution_count": 233,
   "id": "3bcefe49",
   "metadata": {},
   "outputs": [],
   "source": [
    "error_indices=[]\n",
    "true=test.classes\n",
    "for i  in range(len(predictions)):\n",
    "    if predictions[i]!=true[i]:\n",
    "        error_indices.append(i)"
   ]
  },
  {
   "cell_type": "code",
   "execution_count": 234,
   "id": "a5558e70",
   "metadata": {},
   "outputs": [],
   "source": [
    "paths_Front=glob.glob(r\"C:\\Users\\USER\\Desktop\\Hamza's_Data\\Hamza's_Data\\test aug\\Front view\\*.jpg\")"
   ]
  },
  {
   "cell_type": "code",
   "execution_count": 235,
   "id": "67a158f1",
   "metadata": {},
   "outputs": [],
   "source": [
    "paths_Left=glob.glob(r\"C:\\Users\\USER\\Desktop\\Hamza's_Data\\Hamza's_Data\\test aug\\Left view\\*.jpg\")"
   ]
  },
  {
   "cell_type": "code",
   "execution_count": 236,
   "id": "1ed23b58",
   "metadata": {},
   "outputs": [],
   "source": [
    "paths_Rear=glob.glob(r\"C:\\Users\\USER\\Desktop\\Hamza's_Data\\Hamza's_Data\\test aug\\Rear view\\*.jpg\")"
   ]
  },
  {
   "cell_type": "code",
   "execution_count": 237,
   "id": "9dfd1394",
   "metadata": {},
   "outputs": [],
   "source": [
    "paths_Right=glob.glob(r\"C:\\Users\\USER\\Desktop\\Hamza's_Data\\Hamza's_Data\\test aug\\Right view\\*.jpg\")"
   ]
  },
  {
   "cell_type": "code",
   "execution_count": 238,
   "id": "49af4c44",
   "metadata": {},
   "outputs": [],
   "source": [
    "allpaths=[]\n",
    "allpaths.extend(paths_Right)\n",
    "allpaths.extend(paths_Left)\n",
    "allpaths.extend(paths_Rear)\n",
    "allpaths.extend(paths_Right)"
   ]
  },
  {
   "cell_type": "code",
   "execution_count": 239,
   "id": "97ee8501",
   "metadata": {},
   "outputs": [],
   "source": [
    "classes={0:'Front view',1: 'Left view' , 2:'Rear view',3: 'Right view'}"
   ]
  },
  {
   "cell_type": "code",
   "execution_count": null,
   "id": "d3d77863",
   "metadata": {},
   "outputs": [],
   "source": [
    "for i in error_indices:\n",
    "    img=cv2.imread(allpaths[i])\n",
    "    cv2.imshow(f\"True class ={classes[true[i]]} / predicted ={classes[predictions[i]]}\",img)\n",
    "    cv2.waitKey(0)\n",
    "    cv2.destroyAllWindows()"
   ]
  },
  {
   "cell_type": "markdown",
   "id": "bdb43aa2",
   "metadata": {},
   "source": [
    "#  LIVE CAMERA"
   ]
  },
  {
   "cell_type": "code",
   "execution_count": 20,
   "id": "061043ba",
   "metadata": {},
   "outputs": [],
   "source": [
    "classes={0:'Front view', 1:\"Left view\", 2:\"Not a car\", 3:'Rear view', 5:'Right view'}"
   ]
  },
  {
   "cell_type": "code",
   "execution_count": 21,
   "id": "66d41b71",
   "metadata": {},
   "outputs": [],
   "source": [
    "font = cv2.FONT_HERSHEY_SIMPLEX\n",
    "org = (50, 50)\n",
    "fontScale = 1\n",
    "color = (255, 0, 0)\n",
    "thickness = 2"
   ]
  },
  {
   "cell_type": "code",
   "execution_count": null,
   "id": "c8b9b70e",
   "metadata": {},
   "outputs": [],
   "source": [
    "cap= cv2.VideoCapture(0)"
   ]
  },
  {
   "cell_type": "code",
   "execution_count": null,
   "id": "e5a87bf6",
   "metadata": {
    "scrolled": true
   },
   "outputs": [],
   "source": [
    "while True:\n",
    "    ret, frame = cap.read()\n",
    "    \n",
    "    \n",
    "    img = cv2.resize(frame, (224,224))  \n",
    "    img=np.array(img)\n",
    "    img= np.expand_dims(img,axis=0)\n",
    "    \n",
    "    y_pred= model.predict(img)\n",
    "    index=np.argmax(y_pred[0])\n",
    "    print(y_pred[0])\n",
    "    \n",
    "    if y_pred[0][index]>0.7:\n",
    "            \n",
    "        cv2.putText(frame,classes[index]+str(y_pred[0][index]), (50, 50),\n",
    "                    cv2.FONT_HERSHEY_SIMPLEX, 0.9, (0, 0, 255), 2)\n",
    "    \n",
    "    cv2.imshow('Frame',frame)\n",
    "    if cv2.waitKey(1) & 0xFF == ord('q'):\n",
    "        break\n",
    "        \n",
    "cap.release()\n",
    "cv2.destroyAllWindows()\n",
    "    "
   ]
  }
 ],
 "metadata": {
  "kernelspec": {
   "display_name": "Python 3 (ipykernel)",
   "language": "python",
   "name": "python3"
  },
  "language_info": {
   "codemirror_mode": {
    "name": "ipython",
    "version": 3
   },
   "file_extension": ".py",
   "mimetype": "text/x-python",
   "name": "python",
   "nbconvert_exporter": "python",
   "pygments_lexer": "ipython3",
   "version": "3.9.7"
  }
 },
 "nbformat": 4,
 "nbformat_minor": 5
}
